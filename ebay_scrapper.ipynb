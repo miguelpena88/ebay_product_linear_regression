{
 "cells": [
  {
   "cell_type": "code",
   "execution_count": 1,
   "metadata": {},
   "outputs": [],
   "source": [
    "import pandas as pd"
   ]
  },
  {
   "cell_type": "code",
   "execution_count": 2,
   "metadata": {},
   "outputs": [],
   "source": [
    "from scipy import stats\n",
    "import numpy as np"
   ]
  },
  {
   "cell_type": "code",
   "execution_count": 3,
   "metadata": {},
   "outputs": [],
   "source": [
    "import csv"
   ]
  },
  {
   "cell_type": "code",
   "execution_count": 4,
   "metadata": {},
   "outputs": [],
   "source": [
    "import requests"
   ]
  },
  {
   "cell_type": "code",
   "execution_count": 5,
   "metadata": {},
   "outputs": [],
   "source": [
    "from bs4 import BeautifulSoup"
   ]
  },
  {
   "cell_type": "code",
   "execution_count": 6,
   "metadata": {},
   "outputs": [],
   "source": [
    "import re"
   ]
  },
  {
   "cell_type": "code",
   "execution_count": 7,
   "metadata": {},
   "outputs": [],
   "source": [
    "from datetime import datetime\n"
   ]
  },
  {
   "cell_type": "code",
   "execution_count": 8,
   "metadata": {},
   "outputs": [],
   "source": [
    "##function that takes str ms timestamp and turns into datetime object##\n",
    "def ms2dt(timestamp):\n",
    "    ##below turns str into int##\n",
    "    ms_str2int=int(timestamp)\n",
    "    ##below divides by 1000 to format stamp##\n",
    "    dms=ms_str2int/1000\n",
    "    ##line below turns our dms variable into a datetime formated string##\n",
    "    dt_string=datetime.fromtimestamp(dms).strftime('%Y-%m-%d %H:%M:%S')\n",
    "    ##line below changes dt_string to datetime obj##\n",
    "    date_time_obj = datetime.strptime(dt_string,'%Y-%m-%d %H:%M:%S')\n",
    "    \n",
    "    return(date_time_obj)\n",
    "\n",
    "\n",
    "    \n",
    "    "
   ]
  },
  {
   "cell_type": "code",
   "execution_count": 43,
   "metadata": {},
   "outputs": [],
   "source": [
    "def get_page(url):\n",
    "    response = requests.get(url)\n",
    "    \n",
    "    if not response.ok:\n",
    "        print('Serer reponded:', response.status_code)\n",
    "    else:\n",
    "        soup = BeautifulSoup(response.text, 'lxml')\n",
    "    return soup\n",
    "\n",
    "def get_detail_data(soup):\n",
    "    \n",
    "    try:\n",
    "        title = soup.find('span', id='vi-lkhdr-itmTitl').text.strip()\n",
    "    except:\n",
    "        title = ''\n",
    "        \n",
    "    try:\n",
    "        p = soup.find('span', id='prcIsum').text.strip()\n",
    "        currency, price=p.split(' ')\n",
    "    except:\n",
    "        currency = ''\n",
    "        price = ''\n",
    "        \n",
    "    try:\n",
    "        shipping = soup.find('span', id='fshippingCost').text.strip()\n",
    "    except:\n",
    "        shipping = ''\n",
    "        \n",
    "    try:\n",
    "        ms_stamp = soup.find('span', id='bb_tlft').find('span', class_='timeMs')\n",
    "        timems= ms_stamp.attrs['timems']\n",
    "        date_time= ms2dt(timems)\n",
    "    except:\n",
    "        date_time= ''\n",
    "    \n",
    "    try:\n",
    "        condition = soup.find('div', id='vi-itm-cond').text.strip()\n",
    "    except:\n",
    "        condition = ''\n",
    "        \n",
    "    try:\n",
    "        location = soup.find_all('tr', class_='vi-ht20')[3].text.strip().split('\\n')[1]\n",
    "    except:\n",
    "        location = ''\n",
    "        \n",
    "    try:\n",
    "        region_code = soup.find('div', id='BottomPanelDF').find('div', class_='itemAttr').text.strip()\n",
    "        region_code = re.match('Region code:', region_code)\n",
    "    except:\n",
    "        region_code = ''\n",
    "    try:\n",
    "        color = soup.find('div', id='BottomPanelDF').find('h2', itemprop=\"color\").text.strip()\n",
    "    except:\n",
    "        color = ''\n",
    "        \n",
    "    data = { \n",
    "        'title': title,\n",
    "        'price': price,\n",
    "        'currency':currency,\n",
    "        'shipping':shipping,\n",
    "        'date_time':date_time,\n",
    "        'condition':condition,\n",
    "        'location':location,\n",
    "        'region_code':region_code,\n",
    "        'color':color\n",
    "    }\n",
    "        \n",
    "    return data\n",
    "\n",
    "def get_index_data(soup):\n",
    "    try:\n",
    "        links = soup.find_all('a', class_='s-item__link')\n",
    "    except:\n",
    "        links = []\n",
    "    urls = [item.get('href') for item in links]\n",
    "    \n",
    "    return(urls)\n",
    "\n",
    "def write_csv(data, url):\n",
    "    with open('output.csv', 'a') as csvfile:\n",
    "        writer = csv.writer(csvfile)\n",
    "        \n",
    "        row = [data['title'], data['price'], data['currency'], data['shipping'],\n",
    "               data['date_time'], data['condition']\n",
    "               , data['location'], data['region_code'],\n",
    "               data['color'], url]\n",
    "        \n",
    "        writer.writerow(row)\n",
    "        \n",
    "        \n",
    "    \n",
    "\n",
    "def main():\n",
    "    url=\"https://www.ebay.com/sch/i.html?&_nkw=gameboy+color&rt=nc&LH_Sold=1&LH_Complete=1&_pgn=1\"\n",
    "    \n",
    "    products = get_index_data(get_page(url))\n",
    "    \n",
    "    for link in products:\n",
    "        data = get_detail_data(get_page(link))\n",
    "        write_csv(data, link)\n",
    "        print(data)"
   ]
  },
  {
   "cell_type": "code",
   "execution_count": 44,
   "metadata": {},
   "outputs": [
    {
     "name": "stdout",
     "output_type": "stream",
     "text": [
      "{'title': 'REFURBISHED GameBoy Color Pokemon Screen Lens Backlight Mod Installed TESTED!', 'price': '$152.00', 'currency': 'US', 'shipping': 'FREE', 'date_time': datetime.datetime(2020, 8, 26, 13, 55, 21), 'condition': 'Seller refurbished', 'location': 'Powell, Ohio, United States', 'region_code': None, 'color': ''}\n",
      "{'title': 'NINTENDO GAMEBOY COLOR GBC CGB-001 KIWI NEON GREEN; TESTED; CGB 001 GAME BOY', 'price': '$59.99', 'currency': 'US', 'shipping': '', 'date_time': datetime.datetime(2020, 8, 26, 13, 53), 'condition': 'Used', 'location': 'Bozeman, Montana, United States', 'region_code': None, 'color': 'Green'}\n",
      "{'title': 'Nintendo Game Boy Color Atomic Purple Working Tetris Pokemon Red Mario Land', 'price': '', 'currency': '', 'shipping': '$9.99', 'date_time': datetime.datetime(2020, 8, 26, 12, 45, 25), 'condition': 'Used', 'location': 'Oyster Bay, New York, United States', 'region_code': None, 'color': 'Purple'}\n",
      "{'title': 'Nintendo Game Boy Color Handheld Game Console CGB-001 - Teal, Tested, New Glass', 'price': '$49.99', 'currency': 'US', 'shipping': 'FREE', 'date_time': datetime.datetime(2020, 8, 26, 12, 21, 1), 'condition': 'Used', 'location': 'Grand Prairie, Texas, United States', 'region_code': None, 'color': 'Blue'}\n",
      "{'title': 'Nintendo Game Boy Color Handheld System - Grape Purple CGB-001 TESTED GUARANTEED', 'price': '$49.95', 'currency': 'US', 'shipping': '', 'date_time': datetime.datetime(2020, 8, 26, 12, 0, 11), 'condition': 'Used', 'location': 'Belfast, Maine, United States', 'region_code': None, 'color': 'Purple'}\n",
      "{'title': 'Gameboy Color Atomic Purple with Original Box', 'price': '', 'currency': '', 'shipping': '$8.30', 'date_time': datetime.datetime(2020, 8, 26, 11, 40, 13), 'condition': 'Used', 'location': 'New Haven, Michigan, United States', 'region_code': None, 'color': 'Purple'}\n",
      "{'title': 'Nintendo Gameboy Color Console \" Hlello Kitty Limited Edition \" / TESTED 9833', 'price': '$75.00', 'currency': 'US', 'shipping': '$20.00', 'date_time': datetime.datetime(2020, 8, 26, 11, 38, 6), 'condition': 'Seller refurbished', 'location': 'west, Japan', 'region_code': None, 'color': ''}\n",
      "{'title': 'Gameboy Color Yellow Used', 'price': '', 'currency': '', 'shipping': '', 'date_time': datetime.datetime(2020, 8, 26, 11, 6, 47), 'condition': 'Used', 'location': 'Cincinnati, Ohio, United States', 'region_code': None, 'color': 'Yellow'}\n",
      "{'title': 'Gameboy Color Pokemon Pikachu Edition Nintendo System Gold / Silver Game Boy GBC', 'price': '$79.99', 'currency': 'US', 'shipping': '', 'date_time': datetime.datetime(2020, 8, 26, 10, 46, 40), 'condition': 'Used', 'location': 'Galesburg, Michigan, United States', 'region_code': None, 'color': 'Silver'}\n",
      "{'title': 'Nintendo Game Boy Color Handheld System - Grape Purple *TESTED* GBC', 'price': '$44.99', 'currency': 'US', 'shipping': '', 'date_time': datetime.datetime(2020, 8, 26, 9, 44, 26), 'condition': 'Used', 'location': 'Oklahoma City, Oklahoma, United States', 'region_code': None, 'color': 'Purple'}\n",
      "{'title': 'Lot of 10 Mixed HANDHELD CONSOLES DS LITES, GAMEBOY, GAMEBOY COLOR  PARTS REPAIR', 'price': '$149.99', 'currency': 'US', 'shipping': '', 'date_time': datetime.datetime(2020, 8, 26, 9, 38, 51), 'condition': 'For parts or not working', 'location': 'Toms River, New Jersey, United States', 'region_code': None, 'color': ''}\n",
      "{'title': 'Nintendo Game Boy Color CGB-001 Atomic Purple WORKS No Volumn', 'price': '$39.99', 'currency': 'US', 'shipping': 'FREE', 'date_time': datetime.datetime(2020, 8, 26, 8, 57, 10), 'condition': 'Used', 'location': 'Hillsboro, Ohio, United States', 'region_code': None, 'color': 'Purple'}\n",
      "{'title': 'GameBoy Color Pokémon Pikachu Edition Nintendo System Yellow & Blue Game Boy GBC', 'price': '$79.99', 'currency': 'US', 'shipping': 'FREE', 'date_time': '', 'condition': 'Seller refurbished', 'location': '', 'region_code': None, 'color': 'Blue'}\n",
      "{'title': 'Nintendo Game Boy Color Handheld Console - Atomic Purple Tested w/ Battery Cover', 'price': '$55.00', 'currency': 'US', 'shipping': '', 'date_time': datetime.datetime(2020, 8, 26, 8, 12, 49), 'condition': 'Used', 'location': 'Oconomowoc, Wisconsin, United States', 'region_code': None, 'color': 'Purple'}\n",
      "{'title': 'Nintendo Game Boy Color Purple Grape Console Handheld CGB-001 No Battery Cover', 'price': '$40.00', 'currency': 'US', 'shipping': 'FREE', 'date_time': datetime.datetime(2020, 8, 26, 7, 51, 53), 'condition': 'Used', 'location': 'Caldwell, Idaho, United States', 'region_code': None, 'color': 'Purple'}\n",
      "{'title': 'Nintendo Game Boy Color - Grape CGB-001', 'price': '$49.99', 'currency': 'US', 'shipping': 'FREE', 'date_time': datetime.datetime(2020, 8, 26, 7, 50), 'condition': 'Used', 'location': 'Rough and Ready, California, United States', 'region_code': None, 'color': 'Purple'}\n",
      "{'title': 'Nintendo Game Boy Color Handheld Game Console CGB-001 - Teal, Tested', 'price': '$49.99', 'currency': 'US', 'shipping': 'FREE', 'date_time': datetime.datetime(2020, 8, 26, 7, 49, 2), 'condition': 'Used', 'location': 'Albany, New York, United States', 'region_code': None, 'color': 'Blue'}\n",
      "{'title': 'Nintendo Gameboy Color Kiwi Lime Green No Battery Cover Handheld System, Tested', 'price': '$42.00', 'currency': 'US', 'shipping': '', 'date_time': datetime.datetime(2020, 8, 26, 7, 47, 46), 'condition': 'Used', 'location': 'New Matamoras, Ohio, United States', 'region_code': None, 'color': 'Green'}\n",
      "{'title': 'Nintendo Game Boy Color Teal/Aqua CGB-001 NO Battery Cover', 'price': '$38.00', 'currency': 'US', 'shipping': 'FREE', 'date_time': datetime.datetime(2020, 8, 26, 7, 41, 45), 'condition': 'Used', 'location': 'Caldwell, Idaho, United States', 'region_code': None, 'color': 'Blue'}\n",
      "{'title': 'Nintendo Game Boy Color Turquoise 147 JUNK Japan - Import', 'price': '$30.00', 'currency': 'US', 'shipping': '$15.00', 'date_time': datetime.datetime(2020, 8, 26, 7, 21), 'condition': 'For parts or not working', 'location': 'Osaka-shi, Japan', 'region_code': None, 'color': 'Turquoise'}\n",
      "{'title': 'Gameboy Color Console Card Captor Sakura + 3 Games Nintendo Japan Import #320', 'price': '$99.99', 'currency': 'US', 'shipping': 'FREE', 'date_time': datetime.datetime(2020, 8, 26, 7, 5, 3), 'condition': 'Used', 'location': 'Higashisumiyoshi-ku, Osaka-shi, Japan', 'region_code': None, 'color': 'Pink'}\n",
      "{'title': 'Pokemon GameBoy Color Games Complete Set Renewed *Pick Yours* Fast Shipping', 'price': '$14.99', 'currency': 'US', 'shipping': 'FREE', 'date_time': '', 'condition': 'Open box', 'location': '', 'region_code': None, 'color': ''}\n",
      "{'title': 'Game Boy Color Kiwi Green Handheld Console System CGB-001 *Cleaned & Tested*', 'price': '$64.97', 'currency': 'US', 'shipping': '', 'date_time': datetime.datetime(2020, 8, 26, 6, 14, 26), 'condition': 'Used', 'location': 'Charlotte, North Carolina, United States', 'region_code': None, 'color': 'Green'}\n",
      "{'title': 'NINTENDO GAMEBOY COLOR GBC CGB-001 YELLOW; TESTED Free Domestic Shipping', 'price': '', 'currency': '', 'shipping': 'FREE', 'date_time': datetime.datetime(2020, 8, 26, 6, 6, 31), 'condition': 'Used', 'location': 'Sauk Centre, Minnesota, United States', 'region_code': None, 'color': 'Yellow'}\n",
      "{'title': 'Pokemon GameBoy Color Games Fast Shipping', 'price': '$40.00', 'currency': 'US', 'shipping': 'FREE', 'date_time': datetime.datetime(2020, 8, 26, 5, 44, 13), 'condition': 'Used', 'location': 'Albany, Ohio, United States', 'region_code': None, 'color': ''}\n",
      "{'title': 'Nintendo Game Boy Pocket / Color / Games', 'price': '$425.00', 'currency': 'US', 'shipping': 'FREE', 'date_time': datetime.datetime(2020, 8, 26, 2, 59, 54), 'condition': 'Open box', 'location': 'Palm Coast, Florida, United States', 'region_code': None, 'color': ''}\n",
      "{'title': 'Nintendo Gameboy DMG Brick Classic Console Recased Reshell Clear Colors', 'price': '$119.90', 'currency': 'AU', 'shipping': 'AU $17.01\\n\\n\\t\\t\\t\\t\\t\\t\\t(approx. US $12.20)', 'date_time': '', 'condition': 'Seller refurbished', 'location': '', 'region_code': None, 'color': ''}\n",
      "{'title': 'Replacement Game Boy Colour GBC Battery Cover Pack for Nintendo Gameboy Color', 'price': '1.79', 'currency': 'GBP', 'shipping': 'GBP 3.00\\n\\n\\t\\t\\t\\t\\t\\t\\t(approx. US $3.94)', 'date_time': '', 'condition': 'New', 'location': '', 'region_code': None, 'color': ''}\n"
     ]
    },
    {
     "name": "stdout",
     "output_type": "stream",
     "text": [
      "{'title': 'NINTENDO GAME BOY COLOR CGB-001 - AUTHENTIC ORIGINAL RESTORED NEW GLASS LENS', 'price': '$94.30', 'currency': 'US', 'shipping': 'FREE', 'date_time': '', 'condition': 'Seller refurbished', 'location': '', 'region_code': None, 'color': ''}\n",
      "{'title': 'Nintendo Gameboy Color Berry Tested Working With 3 Games Protective Case', 'price': '$59.99', 'currency': 'US', 'shipping': 'FREE', 'date_time': datetime.datetime(2020, 8, 26, 0, 57, 2), 'condition': 'Used', 'location': 'Oregon, United States', 'region_code': None, 'color': 'Berry'}\n",
      "{'title': 'GBC Nintendo Game Boy Color Backlight Backlit LCD Screen Mod Kit BRIGHT + TOOLS!', 'price': '$69.95/ea', 'currency': 'US', 'shipping': 'FREE', 'date_time': '', 'condition': 'New', 'location': '', 'region_code': None, 'color': ''}\n",
      "{'title': '', 'price': '', 'currency': '', 'shipping': '', 'date_time': '', 'condition': '', 'location': '', 'region_code': '', 'color': ''}\n",
      "{'title': 'IPS Full Size 8 Colorful Backlight LCD Mod Kit w/Lens For Game Boy Color GBC', 'price': '$43.90', 'currency': 'US', 'shipping': 'FREE', 'date_time': '', 'condition': 'New', 'location': '', 'region_code': None, 'color': ''}\n",
      "{'title': 'Gameboy Color Clear Purple Atomic Purple Nintendo TESTED - No Sound', 'price': '$35.00', 'currency': 'US', 'shipping': '$5.00', 'date_time': datetime.datetime(2020, 8, 26, 0, 26, 17), 'condition': 'Used', 'location': 'Linden, New Jersey, United States', 'region_code': None, 'color': 'Purple'}\n",
      "{'title': 'Nintendo Game Boy Color Handheld Console - Atomic Purple', 'price': '$40.00', 'currency': 'US', 'shipping': '', 'date_time': datetime.datetime(2020, 8, 26, 0, 25, 12), 'condition': 'Used', 'location': 'Ledyard, Connecticut, United States', 'region_code': None, 'color': 'Purple'}\n",
      "{'title': 'Game Boy Color modded with TFT back light screen (VARIOUS COLORS)', 'price': '$149.99', 'currency': 'US', 'shipping': '', 'date_time': '', 'condition': 'Seller refurbished', 'location': '', 'region_code': None, 'color': ''}\n",
      "{'title': 'GameBoy advance SP and GameBoy color', 'price': '', 'currency': '', 'shipping': '$8.00', 'date_time': datetime.datetime(2020, 8, 26, 0, 16, 28), 'condition': 'Used', 'location': 'Danielson, Connecticut, United States', 'region_code': None, 'color': 'Red'}\n",
      "{'title': 'Pokemon Green Gameboy Color w/ Free Game', 'price': '$99.00', 'currency': 'US', 'shipping': 'FREE', 'date_time': datetime.datetime(2020, 8, 26, 0, 16, 19), 'condition': 'Seller refurbished', 'location': 'Chicago, Illinois, United States', 'region_code': None, 'color': 'Green'}\n",
      "{'title': 'Nintendo Game Boy Color Handheld Game Console - Teal *JPN*', 'price': '$125.00', 'currency': 'C', 'shipping': 'C $45.00\\n\\n\\t\\t\\t\\t\\t\\t\\t(approx. US $34.08)', 'date_time': datetime.datetime(2020, 8, 25, 23, 34, 40), 'condition': 'Used', 'location': '', 'region_code': None, 'color': 'Blue'}\n",
      "{'title': 'E15 Nintendo Gameboy Color Console Red Japan GBC Game Boy CGB-001', 'price': '', 'currency': '', 'shipping': '$25.00', 'date_time': datetime.datetime(2020, 8, 25, 23, 28, 43), 'condition': 'Used', 'location': 'Japan, Japan', 'region_code': None, 'color': 'Red'}\n",
      "{'title': 'Nintendo Game Boy Color Grape Console Purple GBC **non Working For Parts Only**', 'price': '$25.00', 'currency': 'US', 'shipping': '$4.50', 'date_time': datetime.datetime(2020, 8, 25, 23, 18, 32), 'condition': 'For parts or not working', 'location': 'San Diego, California, United States', 'region_code': None, 'color': 'Purple'}\n",
      "{'title': 'Nintendo Game Boy Advance Backlight Mod ips v2 . Yellow light blue color System', 'price': '$129.00', 'currency': 'US', 'shipping': '', 'date_time': datetime.datetime(2020, 8, 25, 23, 12, 52), 'condition': 'Used', 'location': 'Philadelphia, Pennsylvania, United States', 'region_code': None, 'color': 'Purple'}\n",
      "{'title': 'Nintendo GameBoy x3 GBAx2 GBPx2 GBCx4 Color Lot of 11 Console Junk m558', 'price': '', 'currency': '', 'shipping': '$25.00', 'date_time': datetime.datetime(2020, 8, 25, 23, 3, 15), 'condition': 'For parts or not working', 'location': 'Kawanishi, Hyogo, Japan', 'region_code': None, 'color': ''}\n",
      "{'title': 'Nintendo Gameboy Color Atomic Purple CGB-001 w/ Pokeman Gold Version, & more!', 'price': '', 'currency': '', 'shipping': '', 'date_time': datetime.datetime(2020, 8, 25, 22, 59, 58), 'condition': 'Used', 'location': 'Temecula, California, United States', 'region_code': None, 'color': 'Purple'}\n",
      "{'title': '--NINTENDO GAMEBOY MASSIVE LISTING- GB GBP GC GBA SP GM RARE', 'price': '$100.00', 'currency': 'US', 'shipping': '$20.00', 'date_time': '', 'condition': 'Used', 'location': '', 'region_code': None, 'color': ''}\n",
      "{'title': '', 'price': '', 'currency': '', 'shipping': '', 'date_time': '', 'condition': '', 'location': '', 'region_code': '', 'color': ''}\n",
      "{'title': 'Game Boy Color CGB-001  Handheld System Purple ☆Tested & Works☆ w/games & light', 'price': '', 'currency': '', 'shipping': '', 'date_time': datetime.datetime(2020, 8, 25, 21, 48, 41), 'condition': 'Used', 'location': 'Commerce Township, Michigan, United States', 'region_code': None, 'color': 'Purple'}\n",
      "{'title': 'Refurbished Game Boy Color GBC Console With High Light Backlight Back Light LCD', 'price': '$99.00', 'currency': 'US', 'shipping': 'FREE', 'date_time': '', 'condition': 'Seller refurbished', 'location': '', 'region_code': None, 'color': ''}\n",
      "{'title': 'Gameboy Color Grape Console *Tested/Includes Game', 'price': '$49.99', 'currency': 'US', 'shipping': '', 'date_time': datetime.datetime(2020, 8, 25, 21, 25, 31), 'condition': 'Used', 'location': 'Fairdale, Kentucky, United States', 'region_code': None, 'color': 'Purple'}\n",
      "{'title': 'Nintendo GameCube Game Boy Player Base only Silver color', 'price': '$59.00', 'currency': 'US', 'shipping': '', 'date_time': '', 'condition': 'Used', 'location': '', 'region_code': None, 'color': 'Silver'}\n"
     ]
    }
   ],
   "source": [
    "\n",
    "if __name__ == '__main__':\n",
    "    main()"
   ]
  },
  {
   "cell_type": "code",
   "execution_count": 446,
   "metadata": {},
   "outputs": [
    {
     "data": {
      "text/plain": [
       "'1594685075000'"
      ]
     },
     "execution_count": 446,
     "metadata": {},
     "output_type": "execute_result"
    }
   ],
   "source": [
    "str(1594685075000)\n"
   ]
  },
  {
   "cell_type": "code",
   "execution_count": 35,
   "metadata": {},
   "outputs": [
    {
     "name": "stdout",
     "output_type": "stream",
     "text": [
      "2020-07-13 20:04:35\n"
     ]
    },
    {
     "data": {
      "text/plain": [
       "datetime.datetime"
      ]
     },
     "execution_count": 35,
     "metadata": {},
     "output_type": "execute_result"
    }
   ],
   "source": [
    "timemstest=1594685075000\n",
    "timemstest1000 = timemstest/1000\n",
    "s_test1= datetime.fromtimestamp(timemstest1000).strftime('%Y-%m-%d %H:%M:%S')\n",
    "\n",
    "date_time_obj = datetime.strptime(s_test1,'%Y-%m-%d %H:%M:%S')\n",
    "\n",
    "print(date_time_obj)\n",
    "type(date_time_obj)"
   ]
  },
  {
   "cell_type": "code",
   "execution_count": 34,
   "metadata": {},
   "outputs": [
    {
     "ename": "NameError",
     "evalue": "name 's_test1' is not defined",
     "output_type": "error",
     "traceback": [
      "\u001b[0;31m---------------------------------------------------------------------------\u001b[0m",
      "\u001b[0;31mNameError\u001b[0m                                 Traceback (most recent call last)",
      "\u001b[0;32m<ipython-input-34-8859cf837f87>\u001b[0m in \u001b[0;36m<module>\u001b[0;34m\u001b[0m\n\u001b[0;32m----> 1\u001b[0;31m \u001b[0mdate_time_obj\u001b[0m \u001b[0;34m=\u001b[0m \u001b[0mdatetime\u001b[0m\u001b[0;34m.\u001b[0m\u001b[0mstrptime\u001b[0m\u001b[0;34m(\u001b[0m\u001b[0ms_test1\u001b[0m\u001b[0;34m,\u001b[0m\u001b[0;34m'%Y-%m-%d %H:%M:%S'\u001b[0m\u001b[0;34m)\u001b[0m\u001b[0;34m\u001b[0m\u001b[0;34m\u001b[0m\u001b[0m\n\u001b[0m",
      "\u001b[0;31mNameError\u001b[0m: name 's_test1' is not defined"
     ]
    }
   ],
   "source": [
    "date_time_obj = datetime.strptime(s_test1,'%Y-%m-%d %H:%M:%S')"
   ]
  },
  {
   "cell_type": "code",
   "execution_count": 378,
   "metadata": {},
   "outputs": [
    {
     "name": "stdout",
     "output_type": "stream",
     "text": [
      "2020-07-13 20:04:35\n"
     ]
    }
   ],
   "source": []
  },
  {
   "cell_type": "code",
   "execution_count": 373,
   "metadata": {},
   "outputs": [
    {
     "data": {
      "text/plain": [
       "datetime.datetime"
      ]
     },
     "execution_count": 373,
     "metadata": {},
     "output_type": "execute_result"
    }
   ],
   "source": []
  },
  {
   "cell_type": "code",
   "execution_count": null,
   "metadata": {},
   "outputs": [],
   "source": []
  },
  {
   "cell_type": "code",
   "execution_count": null,
   "metadata": {},
   "outputs": [],
   "source": []
  },
  {
   "cell_type": "code",
   "execution_count": 17,
   "metadata": {},
   "outputs": [],
   "source": [
    "item_name = []\n",
    "prices = []\n",
    " \n",
    "for i in range(1,10):\n",
    " \n",
    "    ebayUrl = \"https://www.ebay.com/sch/i.html?_from=R40&amp;amp;amp;amp;amp;amp;amp;amp;amp;amp;amp;amp;_nkw=note+8&amp;amp;amp;amp;amp;amp;amp;amp;amp;amp;amp;amp;_sacat=0&amp;amp;amp;amp;amp;amp;amp;amp;amp;amp;amp;amp;_pgn=\"+str(i)\n",
    "    r= requests.get(ebayUrl)\n",
    "    data=r.text\n",
    "    soup=BeautifulSoup(data)\n",
    " \n",
    "    listings = soup.find_all('li', attrs={'class': 's-item'})\n",
    " \n",
    "    for listing in listings:\n",
    "        prod_name=\" \"\n",
    "        prod_price = \" \"\n",
    "        for name in listing.find_all('h3', attrs={'class':\"s-item__title\"}):\n",
    "            if(str(name.find(text=True, recursive=False))!=\"None\"):\n",
    "                prod_name=str(name.find(text=True, recursive=False))\n",
    "                item_name.append(prod_name)\n",
    " \n",
    "        if(prod_name!=\" \"):\n",
    "            price = listing.find('span', attrs={'class':\"s-item__price\"})\n",
    "            prod_price = str(price.find(text=True, recursive=False))\n",
    "            prod_price = int(sub(\",\",\"\",prod_price.split(\"INR\")[1].split(\".\")[0]))\n",
    "            prices.append(prod_price)\n"
   ]
  },
  {
   "cell_type": "code",
   "execution_count": 24,
   "metadata": {},
   "outputs": [
    {
     "ename": "SyntaxError",
     "evalue": "invalid syntax (<ipython-input-24-4d058fa5f49a>, line 2)",
     "output_type": "error",
     "traceback": [
      "\u001b[0;36m  File \u001b[0;32m\"<ipython-input-24-4d058fa5f49a>\"\u001b[0;36m, line \u001b[0;32m2\u001b[0m\n\u001b[0;31m    data_note_8 = data_note_8.iloc[np.abs(stats.zscore(data_note_8[\"Prices\"]))&amp;amp;amp;amp;amp;amp;amp;amp;amp;amp;amp;lt; 3,]\u001b[0m\n\u001b[0m                                                                                  ^\u001b[0m\n\u001b[0;31mSyntaxError\u001b[0m\u001b[0;31m:\u001b[0m invalid syntax\n"
     ]
    }
   ],
   "source": [
    "data_note_8 = pd.DataFrame({\"Name\":item_name, \"Prices\": prices})\n",
    "data_note_8 = data_note_8.iloc[np.abs(stats.zscore(data_note_8[\"Prices\"]))&amp;amp;amp;amp;amp;amp;amp;amp;amp;amp;amp;lt; 3,]\n",
    "\n"
   ]
  },
  {
   "cell_type": "code",
   "execution_count": 25,
   "metadata": {},
   "outputs": [],
   "source": [
    "data_note_8 = pd.DataFrame({\"Name\":item_name, \"Prices\": prices})"
   ]
  },
  {
   "cell_type": "code",
   "execution_count": 26,
   "metadata": {},
   "outputs": [
    {
     "data": {
      "text/html": [
       "<div>\n",
       "<style scoped>\n",
       "    .dataframe tbody tr th:only-of-type {\n",
       "        vertical-align: middle;\n",
       "    }\n",
       "\n",
       "    .dataframe tbody tr th {\n",
       "        vertical-align: top;\n",
       "    }\n",
       "\n",
       "    .dataframe thead th {\n",
       "        text-align: right;\n",
       "    }\n",
       "</style>\n",
       "<table border=\"1\" class=\"dataframe\">\n",
       "  <thead>\n",
       "    <tr style=\"text-align: right;\">\n",
       "      <th></th>\n",
       "      <th>Name</th>\n",
       "      <th>Prices</th>\n",
       "    </tr>\n",
       "  </thead>\n",
       "  <tbody>\n",
       "  </tbody>\n",
       "</table>\n",
       "</div>"
      ],
      "text/plain": [
       "Empty DataFrame\n",
       "Columns: [Name, Prices]\n",
       "Index: []"
      ]
     },
     "execution_count": 26,
     "metadata": {},
     "output_type": "execute_result"
    }
   ],
   "source": [
    "data_note_8"
   ]
  },
  {
   "cell_type": "code",
   "execution_count": null,
   "metadata": {},
   "outputs": [],
   "source": []
  },
  {
   "cell_type": "code",
   "execution_count": null,
   "metadata": {},
   "outputs": [],
   "source": []
  }
 ],
 "metadata": {
  "kernelspec": {
   "display_name": "Python 3",
   "language": "python",
   "name": "python3"
  },
  "language_info": {
   "codemirror_mode": {
    "name": "ipython",
    "version": 3
   },
   "file_extension": ".py",
   "mimetype": "text/x-python",
   "name": "python",
   "nbconvert_exporter": "python",
   "pygments_lexer": "ipython3",
   "version": "3.7.1"
  },
  "toc": {
   "base_numbering": 1,
   "nav_menu": {},
   "number_sections": true,
   "sideBar": true,
   "skip_h1_title": false,
   "title_cell": "Table of Contents",
   "title_sidebar": "Contents",
   "toc_cell": false,
   "toc_position": {},
   "toc_section_display": true,
   "toc_window_display": false
  }
 },
 "nbformat": 4,
 "nbformat_minor": 2
}
