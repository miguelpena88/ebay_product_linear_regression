{
 "cells": [
  {
   "cell_type": "code",
   "execution_count": 5,
   "metadata": {},
   "outputs": [],
   "source": [
    "import pandas as pd"
   ]
  },
  {
   "cell_type": "code",
   "execution_count": 6,
   "metadata": {},
   "outputs": [],
   "source": [
    "from scipy import stats\n",
    "import numpy as np"
   ]
  },
  {
   "cell_type": "code",
   "execution_count": 9,
   "metadata": {},
   "outputs": [],
   "source": [
    "import requests"
   ]
  },
  {
   "cell_type": "code",
   "execution_count": 8,
   "metadata": {},
   "outputs": [],
   "source": [
    "from bs4 import BeautifulSoup"
   ]
  },
  {
   "cell_type": "code",
   "execution_count": 164,
   "metadata": {},
   "outputs": [],
   "source": [
    "import re"
   ]
  },
  {
   "cell_type": "code",
   "execution_count": 469,
   "metadata": {},
   "outputs": [],
   "source": [
    "##function that takes str ms timestamp and turns into datetime object##\n",
    "def ms2dt(timestamp):\n",
    "    ##below turns str into int##\n",
    "    ms_str2int=int(timestamp)\n",
    "    ##below divides by 1000 to format stamp##\n",
    "    dms=ms_str2int/1000\n",
    "    ##line below turns our dms variable into a datetime formated string##\n",
    "    dt_string=datetime.fromtimestamp(dms).strftime('%Y-%m-%d %H:%M:%S')\n",
    "    ##line below changes dt_string to datetime obj##\n",
    "    date_time_obj = datetime.strptime(dt_string,'%Y-%m-%d %H:%M:%S')\n",
    "    \n",
    "    return(date_time_obj)\n",
    "\n",
    "\n",
    "    \n",
    "    "
   ]
  },
  {
   "cell_type": "code",
   "execution_count": 531,
   "metadata": {},
   "outputs": [],
   "source": [
    "def get_page(url):\n",
    "    response = requests.get(url)\n",
    "    \n",
    "    if not response.ok:\n",
    "        print('Serer reponded:', response.status_code)\n",
    "    else:\n",
    "        soup = BeautifulSoup(response.text, 'lxml')\n",
    "    return soup\n",
    "\n",
    "def get_detail_data(soup):\n",
    "    \n",
    "    try:\n",
    "        title = soup.find('span', id='vi-lkhdr-itmTitl')\n",
    "    except:\n",
    "        title = ''\n",
    "        \n",
    "    try:\n",
    "        p = soup.find('span', id='prcIsum').text.strip()\n",
    "        currency, price=p.split(' ')\n",
    "    except:\n",
    "        currency = ''\n",
    "        price = ''\n",
    "        \n",
    "    try:\n",
    "        shipping = soup.find('span', id='fshippingCost').text.strip()\n",
    "    except:\n",
    "        shipping = ''\n",
    "        \n",
    "    try:\n",
    "        ms_stamp = soup.find('span', id='bb_tlft').find('span', class_='timeMs')\n",
    "        timems= ms_stamp.attrs['timems']\n",
    "        date_time= ms2dt(timems)\n",
    "    except:\n",
    "        date_time= ''\n",
    "    \n",
    "    try:\n",
    "        condition = soup.find('div', id='vi-itm-cond').text.strip()\n",
    "    except:\n",
    "        condition = ''\n",
    "        \n",
    "    try:\n",
    "        location = soup.find_all('tr', class_='vi-ht20')[3].text.strip().split('\\n')\n",
    "    except:\n",
    "        location = ''\n",
    "        \n",
    "        \n",
    "    print(location)\n",
    "\n",
    "def main():\n",
    "    url=\"https://www.ebay.com/itm/Gameboy-Color-Lime-Green-For-Parts-Read-Free-Shipping/174348329182?hash=item2897f860de:g:m2wAAOSwO0xfDPdi\"\n",
    "    get_detail_data(get_page(url))"
   ]
  },
  {
   "cell_type": "code",
   "execution_count": 532,
   "metadata": {},
   "outputs": [
    {
     "name": "stdout",
     "output_type": "stream",
     "text": [
      "['Item location:', 'Hammond, Indiana, United States']\n"
     ]
    }
   ],
   "source": [
    "\n",
    "if __name__ == '__main__':\n",
    "    main()"
   ]
  },
  {
   "cell_type": "code",
   "execution_count": 344,
   "metadata": {},
   "outputs": [],
   "source": [
    "from datetime import datetime\n"
   ]
  },
  {
   "cell_type": "code",
   "execution_count": 446,
   "metadata": {},
   "outputs": [
    {
     "data": {
      "text/plain": [
       "'1594685075000'"
      ]
     },
     "execution_count": 446,
     "metadata": {},
     "output_type": "execute_result"
    }
   ],
   "source": [
    "str(1594685075000)\n"
   ]
  },
  {
   "cell_type": "code",
   "execution_count": 441,
   "metadata": {},
   "outputs": [
    {
     "name": "stdout",
     "output_type": "stream",
     "text": [
      "2020-07-13 20:04:35\n"
     ]
    },
    {
     "data": {
      "text/plain": [
       "datetime.datetime"
      ]
     },
     "execution_count": 441,
     "metadata": {},
     "output_type": "execute_result"
    }
   ],
   "source": [
    "timemstest=1594685075000\n",
    "timemstest1000 = timemstest/1000\n",
    "s_test1= datetime.fromtimestamp(timemstest1000).strftime('%Y-%m-%d %H:%M:%S')\n",
    "\n",
    "date_time_obj = datetime.strptime(s_test1,'%Y-%m-%d %H:%M:%S')\n",
    "\n",
    "print(date_time_obj)\n",
    "type(date_time_obj)"
   ]
  },
  {
   "cell_type": "code",
   "execution_count": 445,
   "metadata": {},
   "outputs": [],
   "source": [
    "date_time_obj = datetime.strptime(s_test1,'%Y-%m-%d %H:%M:%S')"
   ]
  },
  {
   "cell_type": "code",
   "execution_count": 378,
   "metadata": {},
   "outputs": [
    {
     "name": "stdout",
     "output_type": "stream",
     "text": [
      "2020-07-13 20:04:35\n"
     ]
    }
   ],
   "source": []
  },
  {
   "cell_type": "code",
   "execution_count": 373,
   "metadata": {},
   "outputs": [
    {
     "data": {
      "text/plain": [
       "datetime.datetime"
      ]
     },
     "execution_count": 373,
     "metadata": {},
     "output_type": "execute_result"
    }
   ],
   "source": []
  },
  {
   "cell_type": "code",
   "execution_count": null,
   "metadata": {},
   "outputs": [],
   "source": []
  },
  {
   "cell_type": "code",
   "execution_count": null,
   "metadata": {},
   "outputs": [],
   "source": []
  },
  {
   "cell_type": "code",
   "execution_count": 17,
   "metadata": {},
   "outputs": [],
   "source": [
    "item_name = []\n",
    "prices = []\n",
    " \n",
    "for i in range(1,10):\n",
    " \n",
    "    ebayUrl = \"https://www.ebay.com/sch/i.html?_from=R40&amp;amp;amp;amp;amp;amp;amp;amp;amp;amp;amp;amp;_nkw=note+8&amp;amp;amp;amp;amp;amp;amp;amp;amp;amp;amp;amp;_sacat=0&amp;amp;amp;amp;amp;amp;amp;amp;amp;amp;amp;amp;_pgn=\"+str(i)\n",
    "    r= requests.get(ebayUrl)\n",
    "    data=r.text\n",
    "    soup=BeautifulSoup(data)\n",
    " \n",
    "    listings = soup.find_all('li', attrs={'class': 's-item'})\n",
    " \n",
    "    for listing in listings:\n",
    "        prod_name=\" \"\n",
    "        prod_price = \" \"\n",
    "        for name in listing.find_all('h3', attrs={'class':\"s-item__title\"}):\n",
    "            if(str(name.find(text=True, recursive=False))!=\"None\"):\n",
    "                prod_name=str(name.find(text=True, recursive=False))\n",
    "                item_name.append(prod_name)\n",
    " \n",
    "        if(prod_name!=\" \"):\n",
    "            price = listing.find('span', attrs={'class':\"s-item__price\"})\n",
    "            prod_price = str(price.find(text=True, recursive=False))\n",
    "            prod_price = int(sub(\",\",\"\",prod_price.split(\"INR\")[1].split(\".\")[0]))\n",
    "            prices.append(prod_price)\n"
   ]
  },
  {
   "cell_type": "code",
   "execution_count": 24,
   "metadata": {},
   "outputs": [
    {
     "ename": "SyntaxError",
     "evalue": "invalid syntax (<ipython-input-24-4d058fa5f49a>, line 2)",
     "output_type": "error",
     "traceback": [
      "\u001b[0;36m  File \u001b[0;32m\"<ipython-input-24-4d058fa5f49a>\"\u001b[0;36m, line \u001b[0;32m2\u001b[0m\n\u001b[0;31m    data_note_8 = data_note_8.iloc[np.abs(stats.zscore(data_note_8[\"Prices\"]))&amp;amp;amp;amp;amp;amp;amp;amp;amp;amp;amp;lt; 3,]\u001b[0m\n\u001b[0m                                                                                  ^\u001b[0m\n\u001b[0;31mSyntaxError\u001b[0m\u001b[0;31m:\u001b[0m invalid syntax\n"
     ]
    }
   ],
   "source": [
    "data_note_8 = pd.DataFrame({\"Name\":item_name, \"Prices\": prices})\n",
    "data_note_8 = data_note_8.iloc[np.abs(stats.zscore(data_note_8[\"Prices\"]))&amp;amp;amp;amp;amp;amp;amp;amp;amp;amp;amp;lt; 3,]\n",
    "\n"
   ]
  },
  {
   "cell_type": "code",
   "execution_count": 25,
   "metadata": {},
   "outputs": [],
   "source": [
    "data_note_8 = pd.DataFrame({\"Name\":item_name, \"Prices\": prices})"
   ]
  },
  {
   "cell_type": "code",
   "execution_count": 26,
   "metadata": {},
   "outputs": [
    {
     "data": {
      "text/html": [
       "<div>\n",
       "<style scoped>\n",
       "    .dataframe tbody tr th:only-of-type {\n",
       "        vertical-align: middle;\n",
       "    }\n",
       "\n",
       "    .dataframe tbody tr th {\n",
       "        vertical-align: top;\n",
       "    }\n",
       "\n",
       "    .dataframe thead th {\n",
       "        text-align: right;\n",
       "    }\n",
       "</style>\n",
       "<table border=\"1\" class=\"dataframe\">\n",
       "  <thead>\n",
       "    <tr style=\"text-align: right;\">\n",
       "      <th></th>\n",
       "      <th>Name</th>\n",
       "      <th>Prices</th>\n",
       "    </tr>\n",
       "  </thead>\n",
       "  <tbody>\n",
       "  </tbody>\n",
       "</table>\n",
       "</div>"
      ],
      "text/plain": [
       "Empty DataFrame\n",
       "Columns: [Name, Prices]\n",
       "Index: []"
      ]
     },
     "execution_count": 26,
     "metadata": {},
     "output_type": "execute_result"
    }
   ],
   "source": [
    "data_note_8"
   ]
  },
  {
   "cell_type": "code",
   "execution_count": 533,
   "metadata": {},
   "outputs": [
    {
     "ename": "NameError",
     "evalue": "name 'b' is not defined",
     "output_type": "error",
     "traceback": [
      "\u001b[0;31m---------------------------------------------------------------------------\u001b[0m",
      "\u001b[0;31mNameError\u001b[0m                                 Traceback (most recent call last)",
      "\u001b[0;32m<ipython-input-533-89e6c98d9288>\u001b[0m in \u001b[0;36m<module>\u001b[0;34m\u001b[0m\n\u001b[0;32m----> 1\u001b[0;31m \u001b[0mb\u001b[0m\u001b[0;34m\u001b[0m\u001b[0;34m\u001b[0m\u001b[0m\n\u001b[0m",
      "\u001b[0;31mNameError\u001b[0m: name 'b' is not defined"
     ]
    }
   ],
   "source": []
  },
  {
   "cell_type": "code",
   "execution_count": null,
   "metadata": {},
   "outputs": [],
   "source": []
  },
  {
   "cell_type": "code",
   "execution_count": null,
   "metadata": {},
   "outputs": [],
   "source": []
  }
 ],
 "metadata": {
  "kernelspec": {
   "display_name": "Python 3",
   "language": "python",
   "name": "python3"
  },
  "language_info": {
   "codemirror_mode": {
    "name": "ipython",
    "version": 3
   },
   "file_extension": ".py",
   "mimetype": "text/x-python",
   "name": "python",
   "nbconvert_exporter": "python",
   "pygments_lexer": "ipython3",
   "version": "3.7.1"
  },
  "toc": {
   "base_numbering": 1,
   "nav_menu": {},
   "number_sections": true,
   "sideBar": true,
   "skip_h1_title": false,
   "title_cell": "Table of Contents",
   "title_sidebar": "Contents",
   "toc_cell": false,
   "toc_position": {},
   "toc_section_display": true,
   "toc_window_display": false
  }
 },
 "nbformat": 4,
 "nbformat_minor": 2
}
