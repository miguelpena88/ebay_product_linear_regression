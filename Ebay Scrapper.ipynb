{
 "cells": [
  {
   "cell_type": "code",
   "execution_count": 1,
   "metadata": {},
   "outputs": [],
   "source": [
    "import pandas as pd"
   ]
  },
  {
   "cell_type": "code",
   "execution_count": 14,
   "metadata": {},
   "outputs": [],
   "source": [
    "from scipy import stats\n",
    "import numpy as np"
   ]
  },
  {
   "cell_type": "code",
   "execution_count": 16,
   "metadata": {},
   "outputs": [],
   "source": [
    "import requests"
   ]
  },
  {
   "cell_type": "code",
   "execution_count": 13,
   "metadata": {},
   "outputs": [],
   "source": [
    "from bs4 import BeautifulSoup"
   ]
  },
  {
   "cell_type": "code",
   "execution_count": 17,
   "metadata": {},
   "outputs": [],
   "source": [
    "item_name = []\n",
    "prices = []\n",
    " \n",
    "for i in range(1,10):\n",
    " \n",
    "    ebayUrl = \"https://www.ebay.com/sch/i.html?_from=R40&amp;amp;amp;amp;amp;amp;amp;amp;amp;amp;amp;amp;_nkw=note+8&amp;amp;amp;amp;amp;amp;amp;amp;amp;amp;amp;amp;_sacat=0&amp;amp;amp;amp;amp;amp;amp;amp;amp;amp;amp;amp;_pgn=\"+str(i)\n",
    "    r= requests.get(ebayUrl)\n",
    "    data=r.text\n",
    "    soup=BeautifulSoup(data)\n",
    " \n",
    "    listings = soup.find_all('li', attrs={'class': 's-item'})\n",
    " \n",
    "    for listing in listings:\n",
    "        prod_name=\" \"\n",
    "        prod_price = \" \"\n",
    "        for name in listing.find_all('h3', attrs={'class':\"s-item__title\"}):\n",
    "            if(str(name.find(text=True, recursive=False))!=\"None\"):\n",
    "                prod_name=str(name.find(text=True, recursive=False))\n",
    "                item_name.append(prod_name)\n",
    " \n",
    "        if(prod_name!=\" \"):\n",
    "            price = listing.find('span', attrs={'class':\"s-item__price\"})\n",
    "            prod_price = str(price.find(text=True, recursive=False))\n",
    "            prod_price = int(sub(\",\",\"\",prod_price.split(\"INR\")[1].split(\".\")[0]))\n",
    "            prices.append(prod_price)\n"
   ]
  },
  {
   "cell_type": "code",
   "execution_count": 24,
   "metadata": {},
   "outputs": [
    {
     "ename": "SyntaxError",
     "evalue": "invalid syntax (<ipython-input-24-4d058fa5f49a>, line 2)",
     "output_type": "error",
     "traceback": [
      "\u001b[0;36m  File \u001b[0;32m\"<ipython-input-24-4d058fa5f49a>\"\u001b[0;36m, line \u001b[0;32m2\u001b[0m\n\u001b[0;31m    data_note_8 = data_note_8.iloc[np.abs(stats.zscore(data_note_8[\"Prices\"]))&amp;amp;amp;amp;amp;amp;amp;amp;amp;amp;amp;lt; 3,]\u001b[0m\n\u001b[0m                                                                                  ^\u001b[0m\n\u001b[0;31mSyntaxError\u001b[0m\u001b[0;31m:\u001b[0m invalid syntax\n"
     ]
    }
   ],
   "source": [
    "data_note_8 = pd.DataFrame({\"Name\":item_name, \"Prices\": prices})\n",
    "data_note_8 = data_note_8.iloc[np.abs(stats.zscore(data_note_8[\"Prices\"]))&amp;amp;amp;amp;amp;amp;amp;amp;amp;amp;amp;lt; 3,]\n",
    "\n"
   ]
  },
  {
   "cell_type": "code",
   "execution_count": 23,
   "metadata": {},
   "outputs": [
    {
     "data": {
      "text/plain": [
       "[]"
      ]
     },
     "execution_count": 23,
     "metadata": {},
     "output_type": "execute_result"
    }
   ],
   "source": [
    "prices"
   ]
  },
  {
   "cell_type": "code",
   "execution_count": 25,
   "metadata": {},
   "outputs": [],
   "source": [
    "data_note_8 = pd.DataFrame({\"Name\":item_name, \"Prices\": prices})"
   ]
  },
  {
   "cell_type": "code",
   "execution_count": 26,
   "metadata": {},
   "outputs": [
    {
     "data": {
      "text/html": [
       "<div>\n",
       "<style scoped>\n",
       "    .dataframe tbody tr th:only-of-type {\n",
       "        vertical-align: middle;\n",
       "    }\n",
       "\n",
       "    .dataframe tbody tr th {\n",
       "        vertical-align: top;\n",
       "    }\n",
       "\n",
       "    .dataframe thead th {\n",
       "        text-align: right;\n",
       "    }\n",
       "</style>\n",
       "<table border=\"1\" class=\"dataframe\">\n",
       "  <thead>\n",
       "    <tr style=\"text-align: right;\">\n",
       "      <th></th>\n",
       "      <th>Name</th>\n",
       "      <th>Prices</th>\n",
       "    </tr>\n",
       "  </thead>\n",
       "  <tbody>\n",
       "  </tbody>\n",
       "</table>\n",
       "</div>"
      ],
      "text/plain": [
       "Empty DataFrame\n",
       "Columns: [Name, Prices]\n",
       "Index: []"
      ]
     },
     "execution_count": 26,
     "metadata": {},
     "output_type": "execute_result"
    }
   ],
   "source": [
    "data_note_8"
   ]
  },
  {
   "cell_type": "code",
   "execution_count": null,
   "metadata": {},
   "outputs": [],
   "source": []
  }
 ],
 "metadata": {
  "kernelspec": {
   "display_name": "Python 3",
   "language": "python",
   "name": "python3"
  },
  "language_info": {
   "codemirror_mode": {
    "name": "ipython",
    "version": 3
   },
   "file_extension": ".py",
   "mimetype": "text/x-python",
   "name": "python",
   "nbconvert_exporter": "python",
   "pygments_lexer": "ipython3",
   "version": "3.7.1"
  },
  "toc": {
   "base_numbering": 1,
   "nav_menu": {},
   "number_sections": true,
   "sideBar": true,
   "skip_h1_title": false,
   "title_cell": "Table of Contents",
   "title_sidebar": "Contents",
   "toc_cell": false,
   "toc_position": {},
   "toc_section_display": true,
   "toc_window_display": false
  }
 },
 "nbformat": 4,
 "nbformat_minor": 2
}
